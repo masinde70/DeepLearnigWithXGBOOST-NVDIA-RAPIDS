{
 "cells": [
  {
   "cell_type": "code",
   "execution_count": 1,
   "metadata": {},
   "outputs": [
    {
     "name": "stdout",
     "output_type": "stream",
     "text": [
      "5.843333333333334\n",
      "3.0573333333333332\n",
      "3.7580000000000005\n",
      "1.1993333333333331\n"
     ]
    }
   ],
   "source": [
    "import cudf\n",
    "gdf = cudf.read_csv('https://data.heatonresearch.com/data/t81-558/iris.csv')\n",
    "for column in ['sepal_l', 'sepal_w', 'petal_l', 'petal_w']:\n",
    "    print(gdf[column].mean())"
   ]
  },
  {
   "cell_type": "code",
   "execution_count": 2,
   "metadata": {},
   "outputs": [
    {
     "data": {
      "text/html": [
       "<div>\n",
       "<style scoped>\n",
       "    .dataframe tbody tr th:only-of-type {\n",
       "        vertical-align: middle;\n",
       "    }\n",
       "\n",
       "    .dataframe tbody tr th {\n",
       "        vertical-align: top;\n",
       "    }\n",
       "\n",
       "    .dataframe thead th {\n",
       "        text-align: right;\n",
       "    }\n",
       "</style>\n",
       "<table border=\"1\" class=\"dataframe\">\n",
       "  <thead>\n",
       "    <tr style=\"text-align: right;\">\n",
       "      <th></th>\n",
       "      <th>sepal_l</th>\n",
       "      <th>sepal_w</th>\n",
       "      <th>petal_l</th>\n",
       "      <th>petal_w</th>\n",
       "      <th>species</th>\n",
       "    </tr>\n",
       "  </thead>\n",
       "  <tbody>\n",
       "    <tr>\n",
       "      <th>0</th>\n",
       "      <td>5.1</td>\n",
       "      <td>3.5</td>\n",
       "      <td>1.4</td>\n",
       "      <td>0.2</td>\n",
       "      <td>Iris-setosa</td>\n",
       "    </tr>\n",
       "    <tr>\n",
       "      <th>1</th>\n",
       "      <td>4.9</td>\n",
       "      <td>3.0</td>\n",
       "      <td>1.4</td>\n",
       "      <td>0.2</td>\n",
       "      <td>Iris-setosa</td>\n",
       "    </tr>\n",
       "    <tr>\n",
       "      <th>2</th>\n",
       "      <td>4.7</td>\n",
       "      <td>3.2</td>\n",
       "      <td>1.3</td>\n",
       "      <td>0.2</td>\n",
       "      <td>Iris-setosa</td>\n",
       "    </tr>\n",
       "    <tr>\n",
       "      <th>3</th>\n",
       "      <td>4.6</td>\n",
       "      <td>3.1</td>\n",
       "      <td>1.5</td>\n",
       "      <td>0.2</td>\n",
       "      <td>Iris-setosa</td>\n",
       "    </tr>\n",
       "    <tr>\n",
       "      <th>4</th>\n",
       "      <td>5.0</td>\n",
       "      <td>3.6</td>\n",
       "      <td>1.4</td>\n",
       "      <td>0.2</td>\n",
       "      <td>Iris-setosa</td>\n",
       "    </tr>\n",
       "    <tr>\n",
       "      <th>...</th>\n",
       "      <td>...</td>\n",
       "      <td>...</td>\n",
       "      <td>...</td>\n",
       "      <td>...</td>\n",
       "      <td>...</td>\n",
       "    </tr>\n",
       "    <tr>\n",
       "      <th>145</th>\n",
       "      <td>6.7</td>\n",
       "      <td>3.0</td>\n",
       "      <td>5.2</td>\n",
       "      <td>2.3</td>\n",
       "      <td>Iris-virginica</td>\n",
       "    </tr>\n",
       "    <tr>\n",
       "      <th>146</th>\n",
       "      <td>6.3</td>\n",
       "      <td>2.5</td>\n",
       "      <td>5.0</td>\n",
       "      <td>1.9</td>\n",
       "      <td>Iris-virginica</td>\n",
       "    </tr>\n",
       "    <tr>\n",
       "      <th>147</th>\n",
       "      <td>6.5</td>\n",
       "      <td>3.0</td>\n",
       "      <td>5.2</td>\n",
       "      <td>2.0</td>\n",
       "      <td>Iris-virginica</td>\n",
       "    </tr>\n",
       "    <tr>\n",
       "      <th>148</th>\n",
       "      <td>6.2</td>\n",
       "      <td>3.4</td>\n",
       "      <td>5.4</td>\n",
       "      <td>2.3</td>\n",
       "      <td>Iris-virginica</td>\n",
       "    </tr>\n",
       "    <tr>\n",
       "      <th>149</th>\n",
       "      <td>5.9</td>\n",
       "      <td>3.0</td>\n",
       "      <td>5.1</td>\n",
       "      <td>1.8</td>\n",
       "      <td>Iris-virginica</td>\n",
       "    </tr>\n",
       "  </tbody>\n",
       "</table>\n",
       "<p>150 rows × 5 columns</p>\n",
       "</div>"
      ],
      "text/plain": [
       "     sepal_l  sepal_w  petal_l  petal_w         species\n",
       "0        5.1      3.5      1.4      0.2     Iris-setosa\n",
       "1        4.9      3.0      1.4      0.2     Iris-setosa\n",
       "2        4.7      3.2      1.3      0.2     Iris-setosa\n",
       "3        4.6      3.1      1.5      0.2     Iris-setosa\n",
       "4        5.0      3.6      1.4      0.2     Iris-setosa\n",
       "..       ...      ...      ...      ...             ...\n",
       "145      6.7      3.0      5.2      2.3  Iris-virginica\n",
       "146      6.3      2.5      5.0      1.9  Iris-virginica\n",
       "147      6.5      3.0      5.2      2.0  Iris-virginica\n",
       "148      6.2      3.4      5.4      2.3  Iris-virginica\n",
       "149      5.9      3.0      5.1      1.8  Iris-virginica\n",
       "\n",
       "[150 rows x 5 columns]"
      ]
     },
     "execution_count": 2,
     "metadata": {},
     "output_type": "execute_result"
    }
   ],
   "source": [
    "gdf"
   ]
  },
  {
   "cell_type": "code",
   "execution_count": 3,
   "metadata": {},
   "outputs": [
    {
     "name": "stderr",
     "output_type": "stream",
     "text": [
      "/home/masinde/anaconda3/envs/rapidsai/lib/python3.7/site-packages/distributed/client.py:3530: RuntimeWarning: coroutine 'Client._update_scheduler_info' was never awaited\n",
      "  self.sync(self._update_scheduler_info)\n"
     ]
    },
    {
     "name": "stdout",
     "output_type": "stream",
     "text": [
      "Training evaluation history: {'train': {'rmse': [0.476039, 0.462171, 0.453841, 0.447575, 0.443414, 0.440031, 0.437333, 0.435057, 0.433699, 0.432582, 0.431228, 0.4304, 0.429581, 0.429005, 0.428382, 0.427898, 0.427287, 0.426813, 0.426318, 0.42613, 0.425823, 0.425393, 0.425105, 0.424848, 0.424615, 0.424346, 0.424222, 0.424031, 0.423748, 0.42353, 0.42334, 0.423088, 0.422918, 0.422679, 0.422566, 0.422445, 0.42234, 0.421971, 0.421865, 0.421668, 0.421561, 0.421343, 0.421106, 0.420886, 0.420823, 0.420665, 0.420473, 0.420314, 0.420143, 0.419982, 0.419932, 0.41974, 0.419584, 0.419549, 0.419367, 0.419239, 0.419154, 0.419058, 0.418988, 0.418889, 0.418649, 0.418559, 0.418442, 0.418197, 0.418131, 0.417958, 0.417871, 0.417694, 0.417632, 0.417528, 0.417481, 0.417435, 0.417393, 0.417358, 0.417235, 0.417121, 0.417067, 0.417038, 0.41701, 0.41693, 0.416872, 0.416776, 0.41669, 0.416576, 0.416428, 0.416307, 0.416179, 0.416048, 0.415981, 0.41588, 0.415802, 0.415766, 0.415712, 0.41564, 0.41561, 0.415575, 0.415504, 0.415441, 0.415347, 0.415301]}}\n"
     ]
    }
   ],
   "source": [
    "from dask.distributed import Client\n",
    "from dask_cuda import LocalCUDACluster\n",
    "from dask import dataframe as dd\n",
    "import xgboost as xgb\n",
    "import dask_cudf\n",
    "\n",
    "def main(client):\n",
    "    fname = 'HIGGS.csv'\n",
    "    colnames = [\"label\"] + [\"feature-%02d\" % i for i in range(1, 29)]\n",
    "    dask_df = dask_cudf.read_csv(fname, header=None, names=colnames)\n",
    "    y = dask_df[\"label\"]\n",
    "    X = dask_df[dask_df.columns.difference([\"label\"])]\n",
    "    dtrain = xgb.dask.DaskDMatrix(client, X, y)\n",
    "    \n",
    "    output = xgb.dask.train(client,\n",
    "                            {'tree_method': 'gpu_hist'},\n",
    "                            dtrain,\n",
    "                            num_boost_round=100,\n",
    "                            evals=[(dtrain, 'train')])\n",
    "    booster = output['booster']\n",
    "    history = output['history']  \n",
    "    booster.save_model('xgboost-model')\n",
    "    print('Training evaluation history:', history)\n",
    "\n",
    "\n",
    "\n",
    "if __name__ == '__main__':\n",
    "    with LocalCUDACluster(n_workers=1) as cluster:\n",
    "        with Client(cluster) as client:\n",
    "            main(client)"
   ]
  },
  {
   "cell_type": "code",
   "execution_count": 4,
   "metadata": {},
   "outputs": [
    {
     "name": "stdout",
     "output_type": "stream",
     "text": [
      "HIGGS.csv\r\n"
     ]
    }
   ],
   "source": [
    "!ls HIGGS.csv"
   ]
  },
  {
   "cell_type": "code",
   "execution_count": null,
   "metadata": {},
   "outputs": [],
   "source": []
  }
 ],
 "metadata": {
  "kernelspec": {
   "display_name": "Python 3.7 (rapidsai)",
   "language": "python",
   "name": "rapidsai"
  },
  "language_info": {
   "codemirror_mode": {
    "name": "ipython",
    "version": 3
   },
   "file_extension": ".py",
   "mimetype": "text/x-python",
   "name": "python",
   "nbconvert_exporter": "python",
   "pygments_lexer": "ipython3",
   "version": "3.7.9"
  }
 },
 "nbformat": 4,
 "nbformat_minor": 4
}
